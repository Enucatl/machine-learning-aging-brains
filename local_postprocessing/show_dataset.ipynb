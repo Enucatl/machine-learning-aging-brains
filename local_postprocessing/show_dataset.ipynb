{
 "cells": [
  {
   "cell_type": "code",
   "execution_count": 1,
   "metadata": {
    "collapsed": false
   },
   "outputs": [],
   "source": [
    "from ipywidgets import interact\n",
    "from ipywidgets import widgets\n",
    "import nibabel as nb\n",
    "import numpy as np\n",
    "import matplotlib.pyplot as plt\n",
    "from skimage.feature import blob_log\n",
    "%matplotlib inline"
   ]
  },
  {
   "cell_type": "code",
   "execution_count": 2,
   "metadata": {
    "collapsed": false
   },
   "outputs": [],
   "source": [
    "def show_image(path, x, y, z):\n",
    "    img = nb.load(path).get_data()[..., 0]\n",
    "    fig = plt.figure(figsize=(20, 20)) \n",
    "    plt.subplot(1, 3, 1)\n",
    "    plt.imshow(np.rot90(img[:, :, z]),\n",
    "                        cmap=plt.cm.gray,\n",
    "                        interpolation='none'\n",
    "                        )\n",
    "    plt.subplot(1, 3, 2)\n",
    "    plt.imshow(np.rot90(img[:, y, :]),\n",
    "                        cmap=plt.cm.gray,\n",
    "                        interpolation='none'\n",
    "                        )\n",
    "    plt.subplot(1, 3, 3)\n",
    "    plt.imshow(np.rot90(img[x, :, :]),\n",
    "                        cmap=plt.cm.gray,\n",
    "                        interpolation='none'\n",
    "              )\n",
    "    segmentation_seed = np.zeros(img.shape, dtype=np.uint8)\n",
    "    segmentation_seed[img == 0] = 1\n",
    "    segmentation_seed[np.logical_and(img > 0, img < 300)] = 2\n",
    "    segmentation_seed[np.logical_and(img > 650, img < 850)] = 3\n",
    "    segmentation_seed[np.logical_and(img > 1050, img < 1450)] = 4     \n",
    "    fig = plt.figure(figsize=(20, 20)) \n",
    "    plt.subplot(1, 3, 1)\n",
    "    plt.imshow(np.rot90(segmentation_seed[:, :, z]),\n",
    "                        cmap=plt.cm.gray,\n",
    "                        interpolation='none'\n",
    "                        )\n",
    "    plt.subplot(1, 3, 2)\n",
    "    plt.imshow(np.rot90(segmentation_seed[:, y, :]),\n",
    "                        cmap=plt.cm.gray,\n",
    "                        interpolation='none'\n",
    "                        )\n",
    "    plt.subplot(1, 3, 3)\n",
    "    plt.imshow(np.rot90(segmentation_seed[x, :, :]),\n",
    "                        cmap=plt.cm.gray,\n",
    "                        interpolation='none'\n",
    "              )\n",
    "    plt.figure()\n",
    "    plt.hist(img[img > 0].flatten(), bins=256)\n",
    "    plt.yscale('log', nonposy='clip')"
   ]
  },
  {
   "cell_type": "code",
   "execution_count": null,
   "metadata": {
    "collapsed": false,
    "scrolled": true
   },
   "outputs": [],
   "source": [
    "shape = (176, 208, 176)\n",
    "path = widgets.Text(\"../data/set_train/train_1.nii\")\n",
    "interact(\n",
    "    show_image,\n",
    "    path=path,\n",
    "    x=widgets.IntSlider(min=0, max=shape[0] - 1, step=1, value=shape[0] // 2),\n",
    "    y=widgets.IntSlider(min=0, max=shape[1] - 1, step=1, value=shape[1] // 2),\n",
    "    z=widgets.IntSlider(min=0, max=shape[2] - 1, step=1, value=shape[2] // 2),\n",
    ")"
   ]
  },
  {
   "cell_type": "code",
   "execution_count": null,
   "metadata": {
    "collapsed": true
   },
   "outputs": [],
   "source": []
  }
 ],
 "metadata": {
  "kernelspec": {
   "display_name": "Python 2",
   "language": "python",
   "name": "python2"
  },
  "language_info": {
   "codemirror_mode": {
    "name": "ipython",
    "version": 2
   },
   "file_extension": ".py",
   "mimetype": "text/x-python",
   "name": "python",
   "nbconvert_exporter": "python",
   "pygments_lexer": "ipython2",
   "version": "2.7.9"
  }
 },
 "nbformat": 4,
 "nbformat_minor": 1
}
